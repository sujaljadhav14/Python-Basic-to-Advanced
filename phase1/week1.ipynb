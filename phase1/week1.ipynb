{
 "cells": [
  {
   "cell_type": "code",
   "execution_count": null,
   "id": "95c03ef5",
   "metadata": {},
   "outputs": [],
   "source": [
    "\n",
    "\n",
    "\n",
    "\n",
    "\n",
    "\n",
    "# Q7. Write a program to calculate the factorial of a number using a loop.\n",
    "# Q8. Create a program to count the number of vowels in a string.\n",
    "# Q9. Write a Python script to reverse a given string.\n",
    "# Q10. Check if a number is a palindrome.\n",
    "# Q11. Write a program to find the sum of first N natural numbers.\n",
    "# Q12. Create a number guessing game.\n",
    "# Q13. Write a program to print all prime numbers between 1 and 100.\n",
    "# Q14. Check if a given year is a leap year or not.\n",
    "# Q15. Create a program to print the Fibonacci series up to N terms.\n",
    "# Q16. Write a program to find the GCD of two numbers.\n",
    "# Q17. Write a program to find the LCM of two numbers.\n",
    "# Q18. Check whether a character is a vowel or consonant.\n",
    "# Q19. Write a program to calculate the sum of digits of a number.\n",
    "# Q20. Create a program to find the second largest number in a list.\n",
    "# Q21. Write a program to count the number of digits in an integer.\n",
    "# Q22. Create a program to print all Armstrong numbers between 1 to 1000.\n",
    "# Q23. Write a Python program to print a pattern of stars in a triangle.\n",
    "# Q24. Create a calculator app using if-else.\n",
    "# Q25. Write a program to display the ASCII value of a character.\n",
    "# Q26. Convert a decimal number to binary using loops.\n",
    "# Q27. Create a program to find the square root of a number.\n",
    "# Q28. Write a program to find the sum of all even numbers in a list.\n",
    "# Q29. Create a program to check whether a number is prime or not.\n",
    "# Q30. Write a program to display the cube of the number up to an integer"
   ]
  },
  {
   "cell_type": "code",
   "execution_count": 10,
   "id": "7221fbd4",
   "metadata": {},
   "outputs": [
    {
     "name": "stdin",
     "output_type": "stream",
     "text": [
      "Enter 1st in A 10\n",
      "Enter 2nd in B 20\n"
     ]
    },
    {
     "name": "stdout",
     "output_type": "stream",
     "text": [
      "A=10 , B=20\n",
      "After Swap\n",
      "A=20 , B=10\n"
     ]
    },
    {
     "name": "stdout",
     "output_type": "stream",
     "text": [
      "A=10 , B=20\n",
      "After Swap\n",
      "A=20 , B=10\n"
     ]
    }
   ],
   "source": [
    "# Q1. Write a Python program to swap two variables.\n",
    "a = int(input(\"Enter 1st in A\"))\n",
    "b = int(input(\"Enter 2nd in B\"))\n",
    "print(f\"A={a} , B={b}\")\n",
    "print(\"After Swap\")\n",
    "# temp = a\n",
    "# a=b\n",
    "# b=temp\n",
    "a , b = b ,a\n",
    "print(f\"A={a} , B={b}\")"
   ]
  },
  {
   "cell_type": "code",
   "execution_count": 3,
   "id": "f679e712",
   "metadata": {},
   "outputs": [
    {
     "name": "stdout",
     "output_type": "stream",
     "text": [
      "Enter Data This IS user input\n"
     ]
    },
    {
     "name": "stdout",
     "output_type": "stream",
     "text": [
      "This IS user input\n"
     ]
    }
   ],
   "source": [
    "# Q2. Take user input and display it back to the user.\n",
    "user_input = input(\"Enter Data\")\n",
    "print(user_input)"
   ]
  },
  {
   "cell_type": "code",
   "execution_count": 5,
   "id": "5afbe0f7",
   "metadata": {},
   "outputs": [
    {
     "name": "stdout",
     "output_type": "stream",
     "text": [
      "Enter Number to check its even or odd 9\n"
     ]
    },
    {
     "name": "stdout",
     "output_type": "stream",
     "text": [
      "9 is Odd\n"
     ]
    }
   ],
   "source": [
    "# Q3. Write a program to check if a number is even or odd.\n",
    "num = int(input(\"Enter Number to check its even or odd\"))\n",
    "if(num%2 ==0):\n",
    "    print(f\"{num} is Even\")\n",
    "else:\n",
    "    print(f\"{num} is Odd\")"
   ]
  },
  {
   "cell_type": "code",
   "execution_count": 6,
   "id": "8ea64421",
   "metadata": {},
   "outputs": [
    {
     "name": "stdout",
     "output_type": "stream",
     "text": [
      "Enter number of which you want table 5\n"
     ]
    },
    {
     "name": "stdout",
     "output_type": "stream",
     "text": [
      "5 x 1 = 5\n",
      "5 x 2 = 10\n",
      "5 x 3 = 15\n",
      "5 x 4 = 20\n",
      "5 x 5 = 25\n",
      "5 x 6 = 30\n",
      "5 x 7 = 35\n",
      "5 x 8 = 40\n",
      "5 x 9 = 45\n",
      "5 x 10 = 50\n"
     ]
    }
   ],
   "source": [
    "# Q4. Create a program that prints the multiplication table of a given number.\n",
    "x = int(input(\"Enter number of which you want table\"))\n",
    "for i in range(1,11):\n",
    "    print(f\"{x} x {i} = {x*i}\")"
   ]
  },
  {
   "cell_type": "code",
   "execution_count": 4,
   "id": "b15ac9d2",
   "metadata": {},
   "outputs": [
    {
     "name": "stdin",
     "output_type": "stream",
     "text": [
      "Enter 1st Number 3\n",
      "Enter 2nd Number 50\n",
      "Enter 3rd Number 10\n"
     ]
    },
    {
     "name": "stdout",
     "output_type": "stream",
     "text": [
      "50 is Larget Num\n"
     ]
    }
   ],
   "source": [
    "# Q5. Write a program to find the largest of three numbers.\n",
    "a = int(input(\"Enter 1st Number\"))\n",
    "b = int(input(\"Enter 2nd Number\"))\n",
    "c = int(input(\"Enter 3rd Number\"))\n",
    "if(a>b and a>c):\n",
    "    print(f\"{a} is Largest Num\")\n",
    "elif(b>a and b>c):\n",
    "    print(f\"{b} is Larget Num\")\n",
    "else:\n",
    "    print(f\"{c} is Largest Num\")"
   ]
  },
  {
   "cell_type": "code",
   "execution_count": 9,
   "id": "beaae0a6",
   "metadata": {},
   "outputs": [
    {
     "name": "stdin",
     "output_type": "stream",
     "text": [
      "Enter Temperature to convert in faranehits 25\n"
     ]
    },
    {
     "name": "stdout",
     "output_type": "stream",
     "text": [
      "Temperature = 25 ---> Farehits = 77.0\n"
     ]
    }
   ],
   "source": [
    "## Q6. Convert temperature from Celsius to Fahrenheit.\n",
    "temp = int(input(\"Enter Temperature to convert in faranehits\"))\n",
    "farh = (temp * 9/5) +32\n",
    "print(f\"Temperature = {temp} ---> Farehits = {farh}\")"
   ]
  },
  {
   "cell_type": "code",
   "execution_count": null,
   "id": "833b5067",
   "metadata": {},
   "outputs": [],
   "source": []
  },
  {
   "cell_type": "code",
   "execution_count": null,
   "id": "887f97d9",
   "metadata": {},
   "outputs": [],
   "source": []
  },
  {
   "cell_type": "code",
   "execution_count": null,
   "id": "2864c4ea",
   "metadata": {},
   "outputs": [],
   "source": []
  },
  {
   "cell_type": "code",
   "execution_count": null,
   "id": "abccc788",
   "metadata": {},
   "outputs": [],
   "source": []
  },
  {
   "cell_type": "code",
   "execution_count": null,
   "id": "16fc7f59",
   "metadata": {},
   "outputs": [],
   "source": []
  },
  {
   "cell_type": "code",
   "execution_count": null,
   "id": "c5a71e3c",
   "metadata": {},
   "outputs": [],
   "source": []
  },
  {
   "cell_type": "code",
   "execution_count": null,
   "id": "bc050148",
   "metadata": {},
   "outputs": [],
   "source": []
  },
  {
   "cell_type": "code",
   "execution_count": null,
   "id": "a8699642",
   "metadata": {},
   "outputs": [],
   "source": []
  },
  {
   "cell_type": "code",
   "execution_count": null,
   "id": "5d4a7599",
   "metadata": {},
   "outputs": [],
   "source": []
  },
  {
   "cell_type": "code",
   "execution_count": null,
   "id": "cd4f43ae",
   "metadata": {},
   "outputs": [],
   "source": []
  },
  {
   "cell_type": "code",
   "execution_count": null,
   "id": "ef54946f",
   "metadata": {},
   "outputs": [],
   "source": []
  },
  {
   "cell_type": "code",
   "execution_count": null,
   "id": "7bbb38d7",
   "metadata": {},
   "outputs": [],
   "source": []
  },
  {
   "cell_type": "code",
   "execution_count": null,
   "id": "fe5a4411",
   "metadata": {},
   "outputs": [],
   "source": []
  },
  {
   "cell_type": "code",
   "execution_count": null,
   "id": "7e57c76c",
   "metadata": {},
   "outputs": [],
   "source": []
  }
 ],
 "metadata": {
  "kernelspec": {
   "display_name": "Python 3 (ipykernel)",
   "language": "python",
   "name": "python3"
  },
  "language_info": {
   "codemirror_mode": {
    "name": "ipython",
    "version": 3
   },
   "file_extension": ".py",
   "mimetype": "text/x-python",
   "name": "python",
   "nbconvert_exporter": "python",
   "pygments_lexer": "ipython3",
   "version": "3.13.5"
  }
 },
 "nbformat": 4,
 "nbformat_minor": 5
}
